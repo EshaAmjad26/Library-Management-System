{
 "cells": [
  {
   "cell_type": "markdown",
   "metadata": {},
   "source": [
    "# Book List"
   ]
  },
  {
   "cell_type": "code",
   "execution_count": 57,
   "metadata": {},
   "outputs": [],
   "source": [
    "\n",
    "books_list = [{'ID' : '01', 'title' : 'Information And Communication Technology', 'author' : 'ABC', 'genre': 'non-fiction', 'status': 'Available'},\n",
    "                  {'ID' : '02', 'title' : 'Artificial Intelligence', 'author' : 'CDE', 'genre': 'non-fiction', 'status': 'Available'},\n",
    "                  {'ID' : '03', 'title' : 'Distributed DataBase Management ', 'author' : 'FGH', 'genre': 'non-fiction', 'status': 'Checked Out'},\n",
    "                  {'ID' : '04', 'title' : 'Compiler Construction', 'author' : 'IJK', 'genre': 'non-fiction', 'status': 'Checked Out'},\n",
    "                  {'ID' : '05', 'title' : 'Distributed DataBase Management ', 'author' : 'LMN','genre': 'non-fiction', 'status': 'Available'}, ]"
   ]
  },
  {
   "cell_type": "markdown",
   "metadata": {},
   "source": [
    "# User List\n"
   ]
  },
  {
   "cell_type": "code",
   "execution_count": 58,
   "metadata": {},
   "outputs": [],
   "source": [
    "userlist = [{'ID' : '01', 'name': 'Esha', 'books': []},\n",
    "            {'ID' : '02', 'name': 'Memoona', 'books': ['Compiler Construction','Distributed DataBase Management', ]},\n",
    "            {'ID' : '03', 'name': 'Samreen', 'books': []},\n",
    "            {'ID' : '04', 'name': 'Rimsha', 'books': []},]\n"
   ]
  },
  {
   "cell_type": "markdown",
   "metadata": {},
   "source": [
    "## 1. View All Books"
   ]
  },
  {
   "cell_type": "code",
   "execution_count": 5,
   "metadata": {},
   "outputs": [],
   "source": [
    "def viewBook():\n",
    "    for i in range (len(books_list)):\n",
    "        print(f\"{books_list[i]['title']}\")"
   ]
  },
  {
   "cell_type": "markdown",
   "metadata": {},
   "source": [
    "## 2. Search for a Book"
   ]
  },
  {
   "cell_type": "code",
   "execution_count": 6,
   "metadata": {},
   "outputs": [],
   "source": [
    "def searchBook():\n",
    "    choice = input(\"Search Book by an ID, TITLE, or by Author Name \")\n",
    "    foundBooks = False\n",
    "    for book in books_list:\n",
    "        if (choice in book['ID'] or choice.title() in book['title'].title() or choice.lower() in book['author'].lower()):\n",
    "            print(f\"Book ID: {book['ID']}\\n Book Title: {book['title']}\\n Book Author: {book['author']}\\nBook Genre: {book['genre']}\\nBook Status: {book['status']}\")\n",
    "            foundBooks= True\n",
    "\n",
    "    if not foundBooks:\n",
    "        print(\"No Matching Book Found\")"
   ]
  },
  {
   "cell_type": "code",
   "execution_count": 7,
   "metadata": {},
   "outputs": [],
   "source": [
    "def borrow_book(info):\n",
    "  for dic in books_list:\n",
    "    status1 = dic.get('status')\n",
    "    if (info in dic['ID']):\n",
    "      if  status1 == 'Available':\n",
    "        print('Available. You can borrow')\n",
    "      else:\n",
    "        print(\"Not Available.\")\n",
    "#print(\"Enter Book ID\")\n",
    "#id = input()\n",
    "#print(id)\n",
    "#borrow_book(id)"
   ]
  },
  {
   "cell_type": "markdown",
   "metadata": {},
   "source": [
    "# update user and Book after Borrowing"
   ]
  },
  {
   "cell_type": "code",
   "execution_count": 77,
   "metadata": {},
   "outputs": [],
   "source": [
    "def updatebookanduser(booksid, usersid):\n",
    "    for book in books_list:\n",
    "        if book['ID'] == booksid:\n",
    "            book['status'] = 'Checked Out'\n",
    "    for user in userlist:\n",
    "         if user['ID'] == usersid:\n",
    "             user['books'].append(book['title'])\n",
    "             print(f'🆔{user['ID']} has borrowed a book 🆔{book['ID']}, Named \"{book['title'].title()}\"')\n"
   ]
  },
  {
   "cell_type": "markdown",
   "metadata": {},
   "source": [
    "# 3.Borrow a Book"
   ]
  },
  {
   "cell_type": "code",
   "execution_count": 10,
   "metadata": {},
   "outputs": [],
   "source": [
    "def borrow_book(bookid, userid):\n",
    "  for dic in books_list:\n",
    "    status1 = dic.get('status')\n",
    "    if (bookid in dic['ID']):\n",
    "      if  status1 == 'Available':\n",
    "        print('🟢Available. You can borrow')\n",
    "        updatebookanduser(bookid, userid)\n",
    "      else:\n",
    "        print(\"🔴Book is Not Available.\")\n",
    "#print(\"Enter Book ID\")\n",
    "#id = input()\n",
    "#print(id)\n",
    "#uid =input(print(\"Enter user ID\"))\n",
    "#print(uid)\n",
    "#borrow_book(id, uid)"
   ]
  },
  {
   "cell_type": "code",
   "execution_count": 22,
   "metadata": {},
   "outputs": [
    {
     "data": {
      "text/plain": [
       "'Available'"
      ]
     },
     "execution_count": 43,
     "metadata": {},
     "output_type": "execute_result"
    }
   ],
   "source": [
    "#userlist[0]\n",
    "books_list[0].get('status')"
   ]
  },
  {
   "cell_type": "markdown",
   "metadata": {},
   "source": [
    "# 4. Return a Book"
   ]
  },
  {
   "cell_type": "code",
   "execution_count": 63,
   "metadata": {},
   "outputs": [],
   "source": [
    "def returning_book(bID, uID):\n",
    "  for book in books_list:\n",
    "    if bID == book['ID']:\n",
    "        book['status'] = 'Available' \n",
    "  for user in userlist:\n",
    "     if uID == user['ID']:\n",
    "        user['books'].pop(-1)\n",
    "  print('Successfully Returned ✅')\n",
    "\n"
   ]
  },
  {
   "cell_type": "markdown",
   "metadata": {},
   "source": [
    "# 5. View all Users"
   ]
  },
  {
   "cell_type": "code",
   "execution_count": 74,
   "metadata": {},
   "outputs": [],
   "source": [
    "def viewUsers():\n",
    "    print('List Of All Users')\n",
    "    for i in userlist:\n",
    "        print(\"🔸\",i['name'])"
   ]
  },
  {
   "cell_type": "markdown",
   "metadata": {},
   "source": [
    "# Menu"
   ]
  },
  {
   "cell_type": "code",
   "execution_count": 75,
   "metadata": {},
   "outputs": [
    {
     "name": "stdout",
     "output_type": "stream",
     "text": [
      "Welcome to the Community Library System!\n",
      "Please choose an option: \n",
      "1. View all books \n",
      "2. Search for a book \n",
      "3. Borrow a book \n",
      "4. Return a book \n",
      "5. View all users \n",
      "6. Exit\n",
      "Enter your choice (1-6):\n",
      "5\n",
      "List Of All Users\n",
      "🔸 Esha\n",
      "🔸 Memoona\n",
      "🔸 Samreen\n",
      "🔸 Rimsha\n",
      "Please choose an option: \n",
      "1. View all books \n",
      "2. Search for a book \n",
      "3. Borrow a book \n",
      "4. Return a book \n",
      "5. View all users \n",
      "6. Exit\n",
      "Enter your choice (1-6):\n",
      "6\n"
     ]
    }
   ],
   "source": [
    "print(\"Welcome to the Community Library System!\")\n",
    "while True:\n",
    "    print(\"Please choose an option: \\n1. View all books \\n2. Search for a book \\n3. Borrow a book \\n4. Return a book \\n5. View all users \\n6. Exit\")\n",
    "    user_input = int(input(print(\"Enter your choice (1-6):\")))\n",
    "    print(f\"{user_input}\")\n",
    "    if user_input == 6:\n",
    "     break\n",
    "    elif user_input == 1:\n",
    "       viewBook()\n",
    "    elif user_input == 2:\n",
    "       searchBook()\n",
    "    elif user_input == 3:\n",
    "       print(\"Enter Book ID and then User ID\")\n",
    "       id = input()\n",
    "       uid =input(print(\"Enter user ID\"))\n",
    "       print(uid)\n",
    "       borrow_book(id, uid)\n",
    "    elif user_input == 4:\n",
    "      id = print(input(\"Enter Book ID\"))\n",
    "      uid = print(input(\"Enter User ID\"))\n",
    "      returning_book(id , uid)\n",
    "    elif user_input == 5:\n",
    "       viewUsers()"
   ]
  }
 ],
 "metadata": {
  "kernelspec": {
   "display_name": "Python 3",
   "language": "python",
   "name": "python3"
  },
  "language_info": {
   "codemirror_mode": {
    "name": "ipython",
    "version": 3
   },
   "file_extension": ".py",
   "mimetype": "text/x-python",
   "name": "python",
   "nbconvert_exporter": "python",
   "pygments_lexer": "ipython3",
   "version": "3.12.2"
  }
 },
 "nbformat": 4,
 "nbformat_minor": 2
}
